{
  "nbformat": 4,
  "nbformat_minor": 0,
  "metadata": {
    "colab": {
      "name": "Die Roll Demo of Normal Distribution.ipynb",
      "provenance": []
    },
    "kernelspec": {
      "name": "python3",
      "display_name": "Python 3"
    }
  },
  "cells": [
    {
      "cell_type": "code",
      "metadata": {
        "id": "VoOmF7cuKrdq",
        "colab_type": "code",
        "colab": {}
      },
      "source": [
        "import random \n",
        "import numpy as np\n",
        "import matplotlib.pyplot as plt"
      ],
      "execution_count": null,
      "outputs": []
    },
    {
      "cell_type": "code",
      "metadata": {
        "id": "woJtxcY4Ktoc",
        "colab_type": "code",
        "colab": {}
      },
      "source": [
        "def roll_Fair_Die():\n",
        "  return random.randint(1,6);"
      ],
      "execution_count": null,
      "outputs": []
    },
    {
      "cell_type": "code",
      "metadata": {
        "id": "yRy3J56nK31G",
        "colab_type": "code",
        "colab": {}
      },
      "source": [
        "def roll_Unfair_Die():\n",
        "  r = random.randint(1,6);\n",
        "  x = lambda r: random.randint(5,6) if (r ==5) else r;\n",
        "  return x(r);"
      ],
      "execution_count": null,
      "outputs": []
    },
    {
      "cell_type": "code",
      "metadata": {
        "id": "tl_r67-dLVgI",
        "colab_type": "code",
        "colab": {
          "base_uri": "https://localhost:8080/",
          "height": 299
        },
        "outputId": "34e3277d-5dbd-4118-be5c-e870d6b61158"
      },
      "source": [
        "No_of_Rolls = 10000;\n",
        "No_of_Dies = 1;\n",
        "die_roll = [0]*No_of_Rolls\n",
        "for i in range(0, No_of_Rolls):\n",
        "  for j in range(1,No_of_Dies+1):\n",
        "    die_roll[i] = die_roll[i]+roll_Unfair_Die();\n",
        "  die_roll[i] = die_roll[i]/No_of_Dies;\n",
        "\n",
        "plt.hist(die_roll, bins = np.append(np.unique(die_roll), max(np.unique(die_roll))+1))\n",
        "print('Mean = ', np.mean(die_roll))\n",
        "print('Standard Deviation = ',np.std(die_roll))"
      ],
      "execution_count": null,
      "outputs": [
        {
          "output_type": "stream",
          "text": [
            "Mean =  3.5777\n",
            "Standard Deviation =  1.8029871630158658\n"
          ],
          "name": "stdout"
        },
        {
          "output_type": "display_data",
          "data": {
            "image/png": "[encoded data removed]",
            "text/plain": [
              "<Figure size 432x288 with 1 Axes>"
            ]
          },
          "metadata": {
            "tags": []
          }
        }
      ]
    },
    {
      "cell_type": "code",
      "metadata": {
        "id": "4XD2E8R3yonF",
        "colab_type": "code",
        "colab": {
          "base_uri": "https://localhost:8080/",
          "height": 302
        },
        "outputId": "263323fb-2d84-4ac4-ce90-e5df8a6acb58"
      },
      "source": [
        "No_of_Rolls = 10000;\n",
        "No_of_Dies = 4;\n",
        "current_Sample = [0]*No_of_Dies;\n",
        "die_roll = [0]*No_of_Rolls;\n",
        "Std_of_Samples_Arr = [0]*No_of_Rolls;\n",
        "for i in range(0, No_of_Rolls):\n",
        "  current_Sample = [0]*No_of_Dies;\n",
        "  for j in range(0,No_of_Dies):\n",
        "    current_Sample[j] = roll_Fair_Die();\n",
        "  die_roll[i] = np.mean(current_Sample);\n",
        "  Std_of_Samples_Arr[i] = np.std(current_Sample);\n",
        "\n",
        "Std_of_Samples = np.mean(Std_of_Samples_Arr);\n",
        "plt.hist(np.array(die_roll), bins = np.append(np.unique(die_roll), max(np.unique(die_roll))+1/No_of_Dies))\n",
        "print('No_of_Dies =', No_of_Dies, 'Mean = ', np.mean(die_roll), 'Std_of_Sample =', Std_of_Samples, 'Std_of_Sample_Means = ', np.std(die_roll), '(Std_of_Sample/Std_of_Sample_Means)^2 = ', (Std_of_Samples/np.std(die_roll))**2);\n",
        "\n",
        "current_Sample = [0]*No_of_Dies;\n",
        "die_roll = [0]*No_of_Rolls;\n",
        "Std_of_Samples_Arr = [0]*No_of_Rolls;\n",
        "for i in range(0, No_of_Rolls):\n",
        "  current_Sample = [0]*No_of_Dies;\n",
        "  for j in range(0,No_of_Dies):\n",
        "    current_Sample[j] = roll_Unfair_Die();\n",
        "  die_roll[i] = np.mean(current_Sample);\n",
        "  Std_of_Samples_Arr[i] = np.std(current_Sample);\n",
        "\n",
        "Std_of_Samples = np.mean(Std_of_Samples_Arr);\n",
        "plt.hist(np.array(die_roll), bins = np.append(np.unique(die_roll), max(np.unique(die_roll))+1/No_of_Dies), color = 'r');\n",
        "print('No_of_Dies =', No_of_Dies, 'Mean = ', np.mean(die_roll), 'Std_of_Sample =', Std_of_Samples, 'Std_of_Sample_Means = ', np.std(die_roll), '(Std_of_Sample/Std_of_Sample_Means)^2 = ', (Std_of_Samples/np.std(die_roll))**2);\n"
      ],
      "execution_count": null,
      "outputs": [
        {
          "output_type": "stream",
          "text": [
            "No_of_Dies = 4 Mean =  3.509675 Std_of_Sample = 1.396371683955816 Std_of_Sample_Means =  0.8513079022157611 (Std_of_Sample/Std_of_Sample_Means)^2 =  2.6904736159460114\n",
            "No_of_Dies = 4 Mean =  3.581975 Std_of_Sample = 1.4681431174201989 Std_of_Sample_Means =  0.9022604110648988 (Std_of_Sample/Std_of_Sample_Means)^2 =  2.647725651527964\n"
          ],
          "name": "stdout"
        },
        {
          "output_type": "display_data",
          "data": {
            "image/png": "[encoded data removed]",
            "text/plain": [
              "<Figure size 432x288 with 1 Axes>"
            ]
          },
          "metadata": {
            "tags": []
          }
        }
      ]
    },
    {
      "cell_type": "code",
      "metadata": {
        "id": "SP3mwBm00RWc",
        "colab_type": "code",
        "colab": {}
      },
      "source": [
        ""
      ],
      "execution_count": null,
      "outputs": []
    }
  ]
}